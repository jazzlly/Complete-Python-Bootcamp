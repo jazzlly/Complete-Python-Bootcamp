{
 "cells": [
  {
   "cell_type": "code",
   "execution_count": null,
   "metadata": {},
   "outputs": [
    {
     "name": "stderr",
     "output_type": "stream",
     "text": [
      " * Running on http://127.0.0.1:8080/ (Press CTRL+C to quit)\n",
      "[2018-02-08 19:34:24,070] ERROR in app: Exception on /store [POST]\n",
      "Traceback (most recent call last):\n",
      "  File \"/usr/local/lib/python3.6/site-packages/flask/app.py\", line 1982, in wsgi_app\n",
      "    response = self.full_dispatch_request()\n",
      "  File \"/usr/local/lib/python3.6/site-packages/flask/app.py\", line 1614, in full_dispatch_request\n",
      "    rv = self.handle_user_exception(e)\n",
      "  File \"/usr/local/lib/python3.6/site-packages/flask/app.py\", line 1517, in handle_user_exception\n",
      "    reraise(exc_type, exc_value, tb)\n",
      "  File \"/usr/local/lib/python3.6/site-packages/flask/_compat.py\", line 33, in reraise\n",
      "    raise value\n",
      "  File \"/usr/local/lib/python3.6/site-packages/flask/app.py\", line 1612, in full_dispatch_request\n",
      "    rv = self.dispatch_request()\n",
      "  File \"/usr/local/lib/python3.6/site-packages/flask/app.py\", line 1598, in dispatch_request\n",
      "    return self.view_functions[rule.endpoint](**req.view_args)\n",
      "  File \"<ipython-input-1-0c989cd751a1>\", line 34, in create_store\n",
      "    'name': request_data['name'],\n",
      "TypeError: 'NoneType' object is not subscriptable\n",
      "127.0.0.1 - - [08/Feb/2018 19:34:24] \"POST /store HTTP/1.1\" 500 -\n"
     ]
    },
    {
     "name": "stdout",
     "output_type": "stream",
     "text": [
      "None\n"
     ]
    },
    {
     "name": "stderr",
     "output_type": "stream",
     "text": [
      "127.0.0.1 - - [08/Feb/2018 19:36:47] \"POST /store HTTP/1.1\" 201 -\n"
     ]
    },
    {
     "name": "stdout",
     "output_type": "stream",
     "text": [
      "{'name': 'test'}\n"
     ]
    },
    {
     "name": "stderr",
     "output_type": "stream",
     "text": [
      "127.0.0.1 - - [08/Feb/2018 19:37:12] \"GET /store HTTP/1.1\" 200 -\n"
     ]
    }
   ],
   "source": [
    "from flask import Flask, jsonify, request\n",
    "import json\n",
    "\n",
    "app = Flask(__name__)\n",
    "\n",
    "stores = [\n",
    "    {\n",
    "        'name':'food',\n",
    "        'itmes':[\n",
    "            {\n",
    "                'name': 'cake',\n",
    "                'price': 83.5\n",
    "            },\n",
    "            {\n",
    "                'name': 'cookie',\n",
    "                'price': 34.5\n",
    "            }\n",
    "        ]\n",
    "    }\n",
    "]\n",
    "\n",
    "@app.route('/store')\n",
    "def get_stores():\n",
    "    ret = [s.get('name') for s in stores]\n",
    "    #return json.dumps(ret)\n",
    "    return jsonify(ret)\n",
    "\n",
    "\n",
    "@app.route('/store', methods=['POST'])\n",
    "def create_store():\n",
    "    request_data = request.get_json()\n",
    "    print(request_data)\n",
    "    new_store = {\n",
    "        'name': request_data['name'],\n",
    "        'items': []\n",
    "    }\n",
    "    stores.append(new_store)\n",
    "    return '', 201\n",
    "\n",
    "@app.route('/store/<string:name>', methods=['GET'])\n",
    "def get_store(name):    \n",
    "    ret = [s for s in stores if s.get('name') == name]\n",
    "    return jsonify(ret)\n",
    "\n",
    "\n",
    "@app.route('/store/<string:name>/item', methods=['POST'])\n",
    "def add_store_item(name):\n",
    "    return 'OK'\n",
    "\n",
    "@app.route('/store/<string:name>/item', methods=['GET'])\n",
    "def get_store_item(name):\n",
    "    return 'OK'\n",
    "\n",
    "app.run(port=8080)"
   ]
  },
  {
   "cell_type": "code",
   "execution_count": null,
   "metadata": {},
   "outputs": [],
   "source": []
  }
 ],
 "metadata": {
  "kernelspec": {
   "display_name": "Python 3",
   "language": "python",
   "name": "python3"
  },
  "language_info": {
   "codemirror_mode": {
    "name": "ipython",
    "version": 3
   },
   "file_extension": ".py",
   "mimetype": "text/x-python",
   "name": "python",
   "nbconvert_exporter": "python",
   "pygments_lexer": "ipython3",
   "version": "3.6.3"
  }
 },
 "nbformat": 4,
 "nbformat_minor": 2
}
